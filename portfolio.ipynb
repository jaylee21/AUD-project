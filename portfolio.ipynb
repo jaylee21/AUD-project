{
 "cells": [
  {
   "cell_type": "markdown",
   "id": "f694d89f",
   "metadata": {},
   "source": [
    "## Background\n",
    "\n",
    "In this project, our group **aimed to develop a predictive model** that utilizes historical payment status and certain demographic information to evaluate the likelihood of credit default.\n",
    "\n",
    "* **Program used:** Python (beautiful soup, pandas, nltk, sklearn, keras, etc.)\n",
    "\n",
    "* **Analyses Performed:** Web Scrapping, Data Cleaning/Manipulation, Keyword Extraction, Text Representation(Tokenization, Lemmatization, Vectorization), Machine Learning(Naive Bayes, Logistic Regression, Random Forest, SVC, Neural Network), Deep Learning(Recurrent Neural Network), Validation(Confusion Matrix), and Business Insights"
   ]
  },
  {
   "cell_type": "markdown",
   "id": "e598ab94",
   "metadata": {},
   "source": [
    "## Introduction"
   ]
  },
  {
   "cell_type": "markdown",
   "id": "07f210e0",
   "metadata": {},
   "source": [
    "Craigslist is an online platform connecting buyers to sellers. It heavily depends on users returning to its website to increase engagement. Thus, it would be in their best interest to maximize the number of users on their website, or increase the amount of time users spend on Craigslist. An effective way of improving users’ time on a page is by improving their experience. For this project, we decided to focus on user experience in the video gaming section. "
   ]
  },
  {
   "cell_type": "markdown",
   "id": "147db51b",
   "metadata": {},
   "source": [
    "There are several areas for improvement within Craigslist’s video game category: general clutter, inconsistent filtering results, and highly specific filtering options."
   ]
  },
  {
   "cell_type": "markdown",
   "id": "433c6020",
   "metadata": {},
   "source": [
    "Our project aims to improve the user experience in the video gaming category by\n",
    "offering an improved filtering option by brand name. We will enable customers to search for either Nintendo, Meta, Microsoft, Sony, Arcade, or Other."
   ]
  },
  {
   "cell_type": "markdown",
   "id": "056e2c1a",
   "metadata": {},
   "source": [
    "## Data Preparation (Web Scrapping)"
   ]
  },
  {
   "cell_type": "markdown",
   "id": "85547494",
   "metadata": {},
   "source": [
    "We used BeautifulSoup4 to scrape 3,011 video game listings from New York, Chicago, Washington DC, Miami, Los Angeles, and Philadelphia. From the title and description we extracted keywords to classify each game brand (e.g Sony, Microsoft) and then stored them in a dictionary of lists."
   ]
  },
  {
   "cell_type": "markdown",
   "id": "7c9a2db7",
   "metadata": {},
   "source": [
    "The dataset consists of 8 columns and 3011 samples without any missing values. "
   ]
  },
  {
   "cell_type": "code",
   "execution_count": 1,
   "id": "e1f6e3a9",
   "metadata": {},
   "outputs": [
    {
     "data": {
      "text/html": [
       "<div>\n",
       "<style scoped>\n",
       "    .dataframe tbody tr th:only-of-type {\n",
       "        vertical-align: middle;\n",
       "    }\n",
       "\n",
       "    .dataframe tbody tr th {\n",
       "        vertical-align: top;\n",
       "    }\n",
       "\n",
       "    .dataframe thead th {\n",
       "        text-align: right;\n",
       "    }\n",
       "</style>\n",
       "<table border=\"1\" class=\"dataframe\">\n",
       "  <thead>\n",
       "    <tr style=\"text-align: right;\">\n",
       "      <th></th>\n",
       "      <th>link</th>\n",
       "      <th>posting_id</th>\n",
       "      <th>datetime</th>\n",
       "      <th>city</th>\n",
       "      <th>title</th>\n",
       "      <th>price</th>\n",
       "      <th>place</th>\n",
       "      <th>desc</th>\n",
       "    </tr>\n",
       "  </thead>\n",
       "  <tbody>\n",
       "    <tr>\n",
       "      <th>0</th>\n",
       "      <td>https://miami.craigslist.org/mdc/vgm/d/miami-a...</td>\n",
       "      <td>7414934575</td>\n",
       "      <td>12/1/2021 08:45</td>\n",
       "      <td>miami</td>\n",
       "      <td>Arcade Video Game Machine With Thousands Of  P...</td>\n",
       "      <td>$700</td>\n",
       "      <td>(Cutler Bay)</td>\n",
       "      <td>\\n\\nQR Code Link to This Post\\n\\n\\nPRICE IS FI...</td>\n",
       "    </tr>\n",
       "    <tr>\n",
       "      <th>1</th>\n",
       "      <td>https://miami.craigslist.org/brw/vgm/d/fort-la...</td>\n",
       "      <td>7414884143</td>\n",
       "      <td>12/1/2021 01:35</td>\n",
       "      <td>miami</td>\n",
       "      <td>sony playstation five - ps5 NEW</td>\n",
       "      <td>$850</td>\n",
       "      <td>(Fort Lauderdale)</td>\n",
       "      <td>\\n\\nQR Code Link to This Post\\n\\n\\nBrand new s...</td>\n",
       "    </tr>\n",
       "    <tr>\n",
       "      <th>2</th>\n",
       "      <td>https://miami.craigslist.org/brw/vgm/d/hollywo...</td>\n",
       "      <td>7414875026</td>\n",
       "      <td>12/1/2021 00:25</td>\n",
       "      <td>miami</td>\n",
       "      <td>Battlefield 2042</td>\n",
       "      <td>$50</td>\n",
       "      <td>(Hollywood)</td>\n",
       "      <td>\\n\\nQR Code Link to This Post\\n\\n\\nLike brand ...</td>\n",
       "    </tr>\n",
       "    <tr>\n",
       "      <th>3</th>\n",
       "      <td>https://miami.craigslist.org/brw/vgm/d/hollywo...</td>\n",
       "      <td>7414860640</td>\n",
       "      <td>11/30/2021 23:07</td>\n",
       "      <td>miami</td>\n",
       "      <td>Playstation 5 Disc SEALED</td>\n",
       "      <td>$850</td>\n",
       "      <td>(Hollywood)</td>\n",
       "      <td>\\n\\nQR Code Link to This Post\\n\\n\\nBrand new s...</td>\n",
       "    </tr>\n",
       "    <tr>\n",
       "      <th>4</th>\n",
       "      <td>https://miami.craigslist.org/brw/vgm/d/hollywo...</td>\n",
       "      <td>7414860692</td>\n",
       "      <td>11/30/2021 23:07</td>\n",
       "      <td>miami</td>\n",
       "      <td>XBOX SERIES X (SEALED) For sale</td>\n",
       "      <td>$780</td>\n",
       "      <td>(Hollywood)</td>\n",
       "      <td>\\n\\nQR Code Link to This Post\\n\\n\\nBrand new s...</td>\n",
       "    </tr>\n",
       "  </tbody>\n",
       "</table>\n",
       "</div>"
      ],
      "text/plain": [
       "                                                link  posting_id  \\\n",
       "0  https://miami.craigslist.org/mdc/vgm/d/miami-a...  7414934575   \n",
       "1  https://miami.craigslist.org/brw/vgm/d/fort-la...  7414884143   \n",
       "2  https://miami.craigslist.org/brw/vgm/d/hollywo...  7414875026   \n",
       "3  https://miami.craigslist.org/brw/vgm/d/hollywo...  7414860640   \n",
       "4  https://miami.craigslist.org/brw/vgm/d/hollywo...  7414860692   \n",
       "\n",
       "           datetime   city                                              title  \\\n",
       "0   12/1/2021 08:45  miami  Arcade Video Game Machine With Thousands Of  P...   \n",
       "1   12/1/2021 01:35  miami                    sony playstation five - ps5 NEW   \n",
       "2   12/1/2021 00:25  miami                                   Battlefield 2042   \n",
       "3  11/30/2021 23:07  miami                          Playstation 5 Disc SEALED   \n",
       "4  11/30/2021 23:07  miami                    XBOX SERIES X (SEALED) For sale   \n",
       "\n",
       "   price               place  \\\n",
       "0  $700         (Cutler Bay)   \n",
       "1  $850    (Fort Lauderdale)   \n",
       "2   $50          (Hollywood)   \n",
       "3  $850          (Hollywood)   \n",
       "4  $780          (Hollywood)   \n",
       "\n",
       "                                                desc  \n",
       "0  \\n\\nQR Code Link to This Post\\n\\n\\nPRICE IS FI...  \n",
       "1  \\n\\nQR Code Link to This Post\\n\\n\\nBrand new s...  \n",
       "2  \\n\\nQR Code Link to This Post\\n\\n\\nLike brand ...  \n",
       "3  \\n\\nQR Code Link to This Post\\n\\n\\nBrand new s...  \n",
       "4  \\n\\nQR Code Link to This Post\\n\\n\\nBrand new s...  "
      ]
     },
     "execution_count": 1,
     "metadata": {},
     "output_type": "execute_result"
    }
   ],
   "source": [
    "import pandas as pd\n",
    "\n",
    "cl = pd.read_csv('all.csv')\n",
    "cl.head()"
   ]
  },
  {
   "cell_type": "code",
   "execution_count": 2,
   "id": "05ffc49f",
   "metadata": {},
   "outputs": [
    {
     "name": "stdout",
     "output_type": "stream",
     "text": [
      "<class 'pandas.core.frame.DataFrame'>\n",
      "RangeIndex: 3011 entries, 0 to 3010\n",
      "Data columns (total 8 columns):\n",
      " #   Column      Non-Null Count  Dtype \n",
      "---  ------      --------------  ----- \n",
      " 0   link        3011 non-null   object\n",
      " 1   posting_id  3011 non-null   int64 \n",
      " 2   datetime    3011 non-null   object\n",
      " 3   city        3011 non-null   object\n",
      " 4   title       3011 non-null   object\n",
      " 5   price       3011 non-null   object\n",
      " 6   place       3011 non-null   object\n",
      " 7   desc        3011 non-null   object\n",
      "dtypes: int64(1), object(7)\n",
      "memory usage: 188.3+ KB\n"
     ]
    }
   ],
   "source": [
    "cl.info()"
   ]
  },
  {
   "cell_type": "code",
   "execution_count": 3,
   "id": "e6a43014",
   "metadata": {},
   "outputs": [
    {
     "name": "stdout",
     "output_type": "stream",
     "text": [
      "losangeles      27.17\n",
      "newyork         24.44\n",
      "chicago         17.40\n",
      "washingtondc    13.28\n",
      "philadelphia     9.56\n",
      "miami            8.14\n",
      "Name: city, dtype: float64\n"
     ]
    }
   ],
   "source": [
    "print(round(cl['city'].value_counts(normalize=True)*100, 2))"
   ]
  },
  {
   "cell_type": "markdown",
   "id": "6404a53f",
   "metadata": {},
   "source": [
    "## 1. Data Preprocessing"
   ]
  },
  {
   "cell_type": "markdown",
   "id": "eb0fc9e7",
   "metadata": {},
   "source": [
    "After we scraped the data, we began the data cleaning process. First, we made each description row into one line and combined with the title column for future analysis. Then, we calculated scores for each description to identify which brand each post belonged to. Finally, we converted the review data into numercial representation. "
   ]
  },
  {
   "cell_type": "markdown",
   "id": "0d3eead4",
   "metadata": {},
   "source": [
    "#### (1) Cleaning Description Column"
   ]
  },
  {
   "cell_type": "code",
   "execution_count": 4,
   "id": "66d8f0e4",
   "metadata": {},
   "outputs": [
    {
     "data": {
      "text/plain": [
       "'\\n\\nQR Code Link to This Post\\n\\n\\nPRICE IS FIRM\\n\\nThis is a real Multi Game Arcade packed with over 10,000 games.  \\n\\nPerfect for a kids room, personal bar or man cave. Includes games for the following systems. \\n\\n- Arcade games \\n- Atari 2600 \\n- Atari 5200 \\n- Atari 7800 \\n- Atari Jaguar \\n- Intellivision \\n- Colecovision \\n- Nintendo Entertainment system \\n- Super Nintendo Entertainment System \\n- Nintendo Gameboy \\n- Nintendo Gameboy Color \\n- Sega Master System \\n- Sega Genesis \\n- Sega 32X \\n- Sega Game Gear \\n- Turbo Grafx-16 \\nAnd more!\\n\\nNot looking for a trade. Cash only. Pickup only in Homestead.    '"
      ]
     },
     "execution_count": 4,
     "metadata": {},
     "output_type": "execute_result"
    }
   ],
   "source": [
    "# Example of the first description before cleaning\n",
    "\n",
    "cl_cleaned = cl\n",
    "\n",
    "cl_cleaned.desc[0]"
   ]
  },
  {
   "cell_type": "code",
   "execution_count": 5,
   "id": "13ce78d3",
   "metadata": {},
   "outputs": [],
   "source": [
    "description = []\n",
    "for d in cl_cleaned['desc']:\n",
    "    desc_temp = \" \"\n",
    "    for s in d.split('\\n\\n\\n')[1].split('\\n'):\n",
    "        desc_temp += s\n",
    "    description.append(desc_temp)\n",
    "\n",
    "cl_cleaned['desc'] = description"
   ]
  },
  {
   "cell_type": "code",
   "execution_count": 6,
   "id": "fae1ecd6",
   "metadata": {},
   "outputs": [
    {
     "data": {
      "text/plain": [
       "' PRICE IS FIRMThis is a real Multi Game Arcade packed with over 10,000 games.  Perfect for a kids room, personal bar or man cave. Includes games for the following systems. - Arcade games - Atari 2600 - Atari 5200 - Atari 7800 - Atari Jaguar - Intellivision - Colecovision - Nintendo Entertainment system - Super Nintendo Entertainment System - Nintendo Gameboy - Nintendo Gameboy Color - Sega Master System - Sega Genesis - Sega 32X - Sega Game Gear - Turbo Grafx-16 And more!Not looking for a trade. Cash only. Pickup only in Homestead.    '"
      ]
     },
     "execution_count": 6,
     "metadata": {},
     "output_type": "execute_result"
    }
   ],
   "source": [
    "# After cleaning is performed\n",
    "\n",
    "cl_cleaned.desc[0]"
   ]
  },
  {
   "cell_type": "code",
   "execution_count": 7,
   "id": "c042b9ee",
   "metadata": {},
   "outputs": [],
   "source": [
    "# Combine title and description columns\n",
    "\n",
    "cl_cleaned['review'] = cl_cleaned['title'] + cl_cleaned['desc']"
   ]
  },
  {
   "cell_type": "markdown",
   "id": "6865351d",
   "metadata": {},
   "source": [
    "#### (2) Creating Target Variable for each sample"
   ]
  },
  {
   "cell_type": "code",
   "execution_count": 8,
   "id": "2fe81221",
   "metadata": {},
   "outputs": [],
   "source": [
    "# Manually extracted keywords for each brand\n",
    "\n",
    "brands = {\"Microsoft\": [\"xbox\", \"microsoft\", \"360\", \"xbox one\", \" rig \", \"x box\", \"series x\", \"series s\", \n",
    "                        \"halo\",\"kinect\"], \n",
    "          \"Nintendo\": [\"wii\", \"gamecube\", \"game cube\", \" ds \", \"gameboy\", \"nintendo\", \"switch\", \"cube\", \n",
    "                       \"lite\", \" dsi \", \"2ds\", \"wii fit\", \"nunchuck\", \"game boy\", \"game boy\", \"onyx\", \"oled\", \n",
    "                       \"3ds\", \"gba\",\"wii remote\"], \n",
    "          \"Sony\": [\"playstation\", \"play station\", \" ps \", \"sony\", \" psp \", \"ps4\", \"ps3\", \"ps5\", \"ps vr\", \"pro\", \n",
    "                   \"ps4 slim\"], \n",
    "          \"Arcade\": [\"arcade\", \"atari\", \"slot machine\", \"pinball\", \"machine\"], \n",
    "          \"Meta\": [\"oculus\", \"meta\", \"quest\", \"quest 2\", \"vr headset\", \"rift\", \"quest 2 elite\", \"touch controller\", \n",
    "                   \"halo headband\", \"head strap\"]\n",
    "         }"
   ]
  },
  {
   "cell_type": "code",
   "execution_count": 9,
   "id": "360521a3",
   "metadata": {},
   "outputs": [],
   "source": [
    "# We created new columns for all the brands and calculated scores for each sample if any keywords exist in description\n",
    "# or title. Then we identified which brand each post belongs to based on the brand that had the largest score.\n",
    "# We created the 'Other' column and assign 0.5 for all samples as default so that samples that had score 0 for all \n",
    "# brands can be classfieid to 'Other' category.\n",
    "\n",
    "import numpy as np\n",
    "\n",
    "for brand in brands:\n",
    "    cl_cleaned[brand] = np.repeat(0, len(cl))\n",
    "    for word in brands[brand]:\n",
    "        cl_cleaned[brand] += cl_cleaned.title.str.contains(word)\n",
    "        cl_cleaned[brand] += cl_cleaned.desc.str.contains(word)\n",
    "\n",
    "cl_cleaned['Other'] = np.repeat(0.5, 3011)\n",
    "cl_cleaned['Brand'] = cl_cleaned.iloc[:,-6:].idxmax(axis=1)"
   ]
  },
  {
   "cell_type": "code",
   "execution_count": 10,
   "id": "e532c504",
   "metadata": {},
   "outputs": [
    {
     "data": {
      "text/html": [
       "<div>\n",
       "<style scoped>\n",
       "    .dataframe tbody tr th:only-of-type {\n",
       "        vertical-align: middle;\n",
       "    }\n",
       "\n",
       "    .dataframe tbody tr th {\n",
       "        vertical-align: top;\n",
       "    }\n",
       "\n",
       "    .dataframe thead th {\n",
       "        text-align: right;\n",
       "    }\n",
       "</style>\n",
       "<table border=\"1\" class=\"dataframe\">\n",
       "  <thead>\n",
       "    <tr style=\"text-align: right;\">\n",
       "      <th></th>\n",
       "      <th>desc</th>\n",
       "      <th>review</th>\n",
       "      <th>Microsoft</th>\n",
       "      <th>Nintendo</th>\n",
       "      <th>Sony</th>\n",
       "      <th>Arcade</th>\n",
       "      <th>Meta</th>\n",
       "      <th>Other</th>\n",
       "      <th>Brand</th>\n",
       "    </tr>\n",
       "  </thead>\n",
       "  <tbody>\n",
       "    <tr>\n",
       "      <th>0</th>\n",
       "      <td>PRICE IS FIRMThis is a real Multi Game Arcade...</td>\n",
       "      <td>Arcade Video Game Machine With Thousands Of  P...</td>\n",
       "      <td>0</td>\n",
       "      <td>0</td>\n",
       "      <td>0</td>\n",
       "      <td>0</td>\n",
       "      <td>0</td>\n",
       "      <td>0.5</td>\n",
       "      <td>Other</td>\n",
       "    </tr>\n",
       "    <tr>\n",
       "      <th>1</th>\n",
       "      <td>Brand new sealed</td>\n",
       "      <td>sony playstation five - ps5 NEW Brand new seal...</td>\n",
       "      <td>0</td>\n",
       "      <td>0</td>\n",
       "      <td>3</td>\n",
       "      <td>0</td>\n",
       "      <td>0</td>\n",
       "      <td>0.5</td>\n",
       "      <td>Sony</td>\n",
       "    </tr>\n",
       "    <tr>\n",
       "      <th>2</th>\n",
       "      <td>Like brand new also still in plastic and for ...</td>\n",
       "      <td>Battlefield 2042 Like brand new also still in ...</td>\n",
       "      <td>0</td>\n",
       "      <td>0</td>\n",
       "      <td>0</td>\n",
       "      <td>0</td>\n",
       "      <td>0</td>\n",
       "      <td>0.5</td>\n",
       "      <td>Other</td>\n",
       "    </tr>\n",
       "    <tr>\n",
       "      <th>3</th>\n",
       "      <td>Brand new sealed, only willing to meet at a g...</td>\n",
       "      <td>Playstation 5 Disc SEALED Brand new sealed, on...</td>\n",
       "      <td>0</td>\n",
       "      <td>0</td>\n",
       "      <td>0</td>\n",
       "      <td>0</td>\n",
       "      <td>0</td>\n",
       "      <td>0.5</td>\n",
       "      <td>Other</td>\n",
       "    </tr>\n",
       "    <tr>\n",
       "      <th>4</th>\n",
       "      <td>Brand new sealed, only willing to meet a poli...</td>\n",
       "      <td>XBOX SERIES X (SEALED) For sale Brand new seal...</td>\n",
       "      <td>0</td>\n",
       "      <td>0</td>\n",
       "      <td>0</td>\n",
       "      <td>0</td>\n",
       "      <td>0</td>\n",
       "      <td>0.5</td>\n",
       "      <td>Other</td>\n",
       "    </tr>\n",
       "    <tr>\n",
       "      <th>5</th>\n",
       "      <td>$10 eachNo texting CALLS ONLY NO BIDDING OVER...</td>\n",
       "      <td>Nintendo 3DS games $10 eachNo texting CALLS ON...</td>\n",
       "      <td>0</td>\n",
       "      <td>0</td>\n",
       "      <td>0</td>\n",
       "      <td>0</td>\n",
       "      <td>0</td>\n",
       "      <td>0.5</td>\n",
       "      <td>Other</td>\n",
       "    </tr>\n",
       "    <tr>\n",
       "      <th>6</th>\n",
       "      <td>15.00 for allPlease, no emailing or texting f...</td>\n",
       "      <td>Attachables to Nintendo Gameboy 15.00 for allP...</td>\n",
       "      <td>0</td>\n",
       "      <td>0</td>\n",
       "      <td>0</td>\n",
       "      <td>0</td>\n",
       "      <td>0</td>\n",
       "      <td>0.5</td>\n",
       "      <td>Other</td>\n",
       "    </tr>\n",
       "    <tr>\n",
       "      <th>7</th>\n",
       "      <td>PLEASECalls only</td>\n",
       "      <td>Ps2 games PLEASECalls only</td>\n",
       "      <td>0</td>\n",
       "      <td>0</td>\n",
       "      <td>0</td>\n",
       "      <td>0</td>\n",
       "      <td>0</td>\n",
       "      <td>0.5</td>\n",
       "      <td>Other</td>\n",
       "    </tr>\n",
       "    <tr>\n",
       "      <th>8</th>\n",
       "      <td>Please no texting or emailing with your offer...</td>\n",
       "      <td>PSP Movies or games $10 each Please no texting...</td>\n",
       "      <td>0</td>\n",
       "      <td>0</td>\n",
       "      <td>0</td>\n",
       "      <td>0</td>\n",
       "      <td>0</td>\n",
       "      <td>0.5</td>\n",
       "      <td>Other</td>\n",
       "    </tr>\n",
       "    <tr>\n",
       "      <th>9</th>\n",
       "      <td>Both are brand new and sealed.Zelle or cashap...</td>\n",
       "      <td>xbox series x brand new - includes one elite c...</td>\n",
       "      <td>5</td>\n",
       "      <td>2</td>\n",
       "      <td>0</td>\n",
       "      <td>0</td>\n",
       "      <td>0</td>\n",
       "      <td>0.5</td>\n",
       "      <td>Microsoft</td>\n",
       "    </tr>\n",
       "  </tbody>\n",
       "</table>\n",
       "</div>"
      ],
      "text/plain": [
       "                                                desc  \\\n",
       "0   PRICE IS FIRMThis is a real Multi Game Arcade...   \n",
       "1                               Brand new sealed       \n",
       "2   Like brand new also still in plastic and for ...   \n",
       "3   Brand new sealed, only willing to meet at a g...   \n",
       "4   Brand new sealed, only willing to meet a poli...   \n",
       "5   $10 eachNo texting CALLS ONLY NO BIDDING OVER...   \n",
       "6   15.00 for allPlease, no emailing or texting f...   \n",
       "7                               PLEASECalls only       \n",
       "8   Please no texting or emailing with your offer...   \n",
       "9   Both are brand new and sealed.Zelle or cashap...   \n",
       "\n",
       "                                              review  Microsoft  Nintendo  \\\n",
       "0  Arcade Video Game Machine With Thousands Of  P...          0         0   \n",
       "1  sony playstation five - ps5 NEW Brand new seal...          0         0   \n",
       "2  Battlefield 2042 Like brand new also still in ...          0         0   \n",
       "3  Playstation 5 Disc SEALED Brand new sealed, on...          0         0   \n",
       "4  XBOX SERIES X (SEALED) For sale Brand new seal...          0         0   \n",
       "5  Nintendo 3DS games $10 eachNo texting CALLS ON...          0         0   \n",
       "6  Attachables to Nintendo Gameboy 15.00 for allP...          0         0   \n",
       "7                     Ps2 games PLEASECalls only              0         0   \n",
       "8  PSP Movies or games $10 each Please no texting...          0         0   \n",
       "9  xbox series x brand new - includes one elite c...          5         2   \n",
       "\n",
       "   Sony  Arcade  Meta  Other      Brand  \n",
       "0     0       0     0    0.5      Other  \n",
       "1     3       0     0    0.5       Sony  \n",
       "2     0       0     0    0.5      Other  \n",
       "3     0       0     0    0.5      Other  \n",
       "4     0       0     0    0.5      Other  \n",
       "5     0       0     0    0.5      Other  \n",
       "6     0       0     0    0.5      Other  \n",
       "7     0       0     0    0.5      Other  \n",
       "8     0       0     0    0.5      Other  \n",
       "9     0       0     0    0.5  Microsoft  "
      ]
     },
     "execution_count": 10,
     "metadata": {},
     "output_type": "execute_result"
    }
   ],
   "source": [
    "# After the target values are created \n",
    "\n",
    "cl_cleaned.iloc[:10, 7:]"
   ]
  },
  {
   "cell_type": "markdown",
   "id": "4967b0eb",
   "metadata": {},
   "source": [
    "#### (3) Creating text representation"
   ]
  },
  {
   "cell_type": "code",
   "execution_count": 11,
   "id": "453f74e4",
   "metadata": {},
   "outputs": [],
   "source": [
    "# Create review and target dataframes separately\n",
    "reviews = list(cl['review'])\n",
    "target = list(cl['Brand'])\n",
    "\n",
    "\n",
    "# Split the review and target data into train(75%) and test(25%) dataset\n",
    "from sklearn.model_selection import train_test_split\n",
    "\n",
    "train_input, test_input, train_y, test_y = train_test_split(reviews, target, random_state=12)"
   ]
  },
  {
   "cell_type": "code",
   "execution_count": 12,
   "id": "5cc5b0c9",
   "metadata": {},
   "outputs": [
    {
     "name": "stdout",
     "output_type": "stream",
     "text": [
      "Length of train_input: 2258\n",
      "Length of test_input: 753\n",
      "Length of train_target: 2258\n",
      "Length of test_target: 753\n"
     ]
    }
   ],
   "source": [
    "# Checking the length of the train/test data\n",
    "\n",
    "print(\"Length of train_input:\", len(train_input))\n",
    "print(\"Length of test_input:\", len(test_input))\n",
    "print(\"Length of train_target:\", len(train_y))\n",
    "print(\"Length of test_target:\", len(test_y))"
   ]
  },
  {
   "cell_type": "code",
   "execution_count": 13,
   "id": "a94b9191",
   "metadata": {},
   "outputs": [],
   "source": [
    "import nltk\n",
    "from nltk.corpus import stopwords\n",
    "from sklearn.feature_extraction.text import TfidfVectorizer\n",
    "\n",
    "# Tokenization, and Normalization\n",
    "review_preprocessed_tokenized = []\n",
    "\n",
    "lemmatizer = nltk.stem.WordNetLemmatizer()\n",
    "for review in train_input:\n",
    "    tokens = nltk.word_tokenize(review.lower())\n",
    "    lemmatized_token = [lemmatizer.lemmatize(token) for token in tokens if token.isalpha()]\n",
    "    stopwords_removed = [token for token in lemmatized_token if not token in stopwords.words('english')]\n",
    "    review_preprocessed_tokenized.append(stopwords_removed)\n",
    "\n",
    "# Vectorization, training the model and transformation to numerical representations\n",
    "\n",
    "review_preprocessed = []\n",
    "for review in review_preprocessed_tokenized:\n",
    "    review_preprocessed.append(\" \".join(review))\n",
    "\n",
    "vectorizer = TfidfVectorizer(ngram_range=(1,2), min_df=2)\n",
    "vectorizer.fit(review_preprocessed)\n",
    "\n",
    "train_x = vectorizer.transform(train_input)\n",
    "test_x = vectorizer.transform(test_input)"
   ]
  },
  {
   "cell_type": "code",
   "execution_count": 14,
   "id": "3dd91da7",
   "metadata": {},
   "outputs": [
    {
     "name": "stdout",
     "output_type": "stream",
     "text": [
      "[[0. 0. 0. ... 0. 0. 0.]\n",
      " [0. 0. 0. ... 0. 0. 0.]\n",
      " [0. 0. 0. ... 0. 0. 0.]\n",
      " ...\n",
      " [0. 0. 0. ... 0. 0. 0.]\n",
      " [0. 0. 0. ... 0. 0. 0.]\n",
      " [0. 0. 0. ... 0. 0. 0.]]\n",
      "Dimension for train_input_transformed: (2258, 9296)\n",
      "\n",
      "[[0. 0. 0. ... 0. 0. 0.]\n",
      " [0. 0. 0. ... 0. 0. 0.]\n",
      " [0. 0. 0. ... 0. 0. 0.]\n",
      " ...\n",
      " [0. 0. 0. ... 0. 0. 0.]\n",
      " [0. 0. 0. ... 0. 0. 0.]\n",
      " [0. 0. 0. ... 0. 0. 0.]]\n",
      "Dimension for teset_input_transformed: (753, 9296)\n"
     ]
    }
   ],
   "source": [
    "print(train_x.toarray())\n",
    "print(\"Dimension for train_input_transformed:\", train_x.shape)\n",
    "print()\n",
    "print(test_x.toarray())\n",
    "print(\"Dimension for teset_input_transformed:\", test_x.shape)"
   ]
  },
  {
   "cell_type": "markdown",
   "id": "e318d6e6",
   "metadata": {},
   "source": [
    "## 2. Model Building"
   ]
  },
  {
   "cell_type": "markdown",
   "id": "b0ad5c91",
   "metadata": {},
   "source": [
    "#### (1) Naive Bayes Model"
   ]
  },
  {
   "cell_type": "markdown",
   "id": "75241c69",
   "metadata": {},
   "source": [
    "The test accuracy is higher than the train accuracy, and both train and test accuracy seems very low. It means that underfitting issue happened. It may indicate the model was too simple that it didn't learn the train data enough. NB model is not the best model, but it is exmtremely simple and fast and usually generate good result. It is a good dependable baseline for text classification. Let's try more complicated models."
   ]
  },
  {
   "cell_type": "code",
   "execution_count": 15,
   "id": "4e8c6757",
   "metadata": {},
   "outputs": [
    {
     "name": "stdout",
     "output_type": "stream",
     "text": [
      "Naive Bayes model Train Accuracy:: 68.29%\n",
      "Naive Bayes model Test Accuracy:: 69.99%\n"
     ]
    }
   ],
   "source": [
    "from sklearn.naive_bayes import MultinomialNB\n",
    "\n",
    "NBmodel = MultinomialNB()\n",
    "NBmodel.fit(train_x, train_y)\n",
    "\n",
    "NB_train_perf1 = NBmodel.score(train_x, train_y)*100\n",
    "NB_test_perf1 = NBmodel.score(test_x, test_y)*100\n",
    "\n",
    "print(\"Naive Bayes model Train Accuracy:: {:.2f}%\".format(NBmodel.score(train_x, train_y)*100))\n",
    "print(\"Naive Bayes model Test Accuracy:: {:.2f}%\".format(NBmodel.score(test_x, test_y)*100))"
   ]
  },
  {
   "cell_type": "markdown",
   "id": "4ef16a58",
   "metadata": {},
   "source": [
    "#### (2) Logistic Regression Model"
   ]
  },
  {
   "cell_type": "markdown",
   "id": "6a6bcbe0",
   "metadata": {},
   "source": [
    "This model doesn't seem to have underfitting or overfitting issue and performed well compared to the previous model."
   ]
  },
  {
   "cell_type": "code",
   "execution_count": 16,
   "id": "1542ac73",
   "metadata": {},
   "outputs": [
    {
     "name": "stdout",
     "output_type": "stream",
     "text": [
      "Logit model Train Accuracy:: 80.12%\n",
      "Logit model Test Accuracy:: 76.63%\n"
     ]
    }
   ],
   "source": [
    "from sklearn.linear_model import LogisticRegression\n",
    "\n",
    "Logitmodel = LogisticRegression()\n",
    "Logitmodel.fit(train_x, train_y)\n",
    "\n",
    "Logit_train_perf1 = Logitmodel.score(train_x, train_y)*100\n",
    "Logit_test_perf1 = Logitmodel.score(test_x, test_y)*100\n",
    "\n",
    "print(\"Logit model Train Accuracy:: {:.2f}%\".format(Logit_train_perf1))\n",
    "print(\"Logit model Test Accuracy:: {:.2f}%\".format(Logit_test_perf1))"
   ]
  },
  {
   "cell_type": "markdown",
   "id": "8f2424d1",
   "metadata": {},
   "source": [
    "We tried different hyperparameters to see if the model generated better result. The result below shows that it had a better test accuracy model, but overfitting seemed to exist. Thus, we choice the first option for Logistic Regression. "
   ]
  },
  {
   "cell_type": "code",
   "execution_count": 17,
   "id": "7bda2b0f",
   "metadata": {},
   "outputs": [
    {
     "name": "stdout",
     "output_type": "stream",
     "text": [
      "Logit model Train Accuracy:: 99.65%\n",
      "Logit model Test Accuracy:: 80.48%\n"
     ]
    }
   ],
   "source": [
    "# Logistic Model\n",
    "from sklearn.linear_model import LogisticRegression\n",
    "\n",
    "Logitmodel2 = LogisticRegression(C=10, max_iter=1000)\n",
    "Logitmodel2.fit(train_x, train_y)\n",
    "\n",
    "Logit_train_perf2 = Logitmodel2.score(train_x, train_y)*100\n",
    "Logit_test_perf2 = Logitmodel2.score(test_x, test_y)*100\n",
    "\n",
    "print(\"Logit model Train Accuracy:: {:.2f}%\".format(Logit_train_perf2))\n",
    "print(\"Logit model Test Accuracy:: {:.2f}%\".format(Logit_test_perf2))"
   ]
  },
  {
   "cell_type": "markdown",
   "id": "a938e46c",
   "metadata": {},
   "source": [
    "#### (3) Ensemble models - Random Forest and Gradient Boosting"
   ]
  },
  {
   "cell_type": "markdown",
   "id": "daff3ea3",
   "metadata": {},
   "source": [
    "The result shows that the Random Forest model performs slightly better than the previous models in terms of the test accuracy, but it has a high overfitting issue."
   ]
  },
  {
   "cell_type": "code",
   "execution_count": 18,
   "id": "72e2d946",
   "metadata": {},
   "outputs": [
    {
     "name": "stdout",
     "output_type": "stream",
     "text": [
      "RF model Train Accuracy:: 100.00%\n",
      "RF model Test Accuracy:: 78.75%\n"
     ]
    }
   ],
   "source": [
    "from sklearn.ensemble import RandomForestClassifier\n",
    "\n",
    "RFmodel = RandomForestClassifier(bootstrap=True, random_state=42)\n",
    "\n",
    "RFmodel.fit(train_x, train_y)\n",
    "\n",
    "RF_train_perf1 = RFmodel.score(train_x, train_y)*100\n",
    "RF_test_perf1 = RFmodel.score(test_x, test_y)*100\n",
    "\n",
    "print(\"RF model Train Accuracy:: {:.2f}%\".format(RF_train_perf1))\n",
    "print(\"RF model Test Accuracy:: {:.2f}%\".format(RF_test_perf1))"
   ]
  },
  {
   "cell_type": "markdown",
   "id": "f6332c4c",
   "metadata": {},
   "source": [
    "Then we tried Gradient Boosting model, one with the default setting and another with hyper parameter tuning. Even though both models seemed to be overfitted to the training dataset, the first option is better than the random forest model. "
   ]
  },
  {
   "cell_type": "code",
   "execution_count": 19,
   "id": "982db4e7",
   "metadata": {},
   "outputs": [
    {
     "name": "stdout",
     "output_type": "stream",
     "text": [
      "GB model Train Accuracy:: 92.96%\n",
      "GB model Test Accuracy:: 81.01%\n"
     ]
    }
   ],
   "source": [
    "from sklearn.ensemble import GradientBoostingClassifier\n",
    "\n",
    "GBmodel = GradientBoostingClassifier(random_state=42)\n",
    "\n",
    "GBmodel.fit(train_x, train_y)\n",
    "\n",
    "GB_train_perf1 = GBmodel.score(train_x, train_y)*100\n",
    "GB_test_perf1 = GBmodel.score(test_x, test_y)*100\n",
    "\n",
    "print(\"GB model Train Accuracy:: {:.2f}%\".format(GB_train_perf1))\n",
    "print(\"GB model Test Accuracy:: {:.2f}%\".format(GB_test_perf1))"
   ]
  },
  {
   "cell_type": "code",
   "execution_count": 20,
   "id": "54beab55",
   "metadata": {},
   "outputs": [
    {
     "name": "stdout",
     "output_type": "stream",
     "text": [
      "GB model Train Accuracy:: 100.00%\n",
      "GB model Test Accuracy:: 79.68%\n"
     ]
    }
   ],
   "source": [
    "from sklearn.ensemble import GradientBoostingClassifier\n",
    "\n",
    "GBmodel2 = GradientBoostingClassifier(n_estimators=200, learning_rate=0.2, random_state=42)\n",
    "\n",
    "GBmodel2.fit(train_x, train_y)\n",
    "\n",
    "GB_train_perf2 = GBmodel2.score(train_x, train_y)*100\n",
    "GB_test_perf2 = GBmodel2.score(test_x, test_y)*100\n",
    "\n",
    "print(\"GB model Train Accuracy:: {:.2f}%\".format(GB_train_perf2))\n",
    "print(\"GB model Test Accuracy:: {:.2f}%\".format(GB_test_perf2))"
   ]
  },
  {
   "cell_type": "markdown",
   "id": "26f4be35",
   "metadata": {},
   "source": [
    "#### (4) Support Vector Machine"
   ]
  },
  {
   "cell_type": "markdown",
   "id": "f47e569e",
   "metadata": {},
   "source": [
    "The support vector machine model didn't perform well compared to the previous model. "
   ]
  },
  {
   "cell_type": "code",
   "execution_count": 21,
   "id": "decdd66c",
   "metadata": {},
   "outputs": [
    {
     "name": "stdout",
     "output_type": "stream",
     "text": [
      "SVM model Train Accuracy:: 99.07%\n",
      "SVM model Test Accuracy:: 80.88%\n"
     ]
    }
   ],
   "source": [
    "from sklearn.svm import LinearSVC\n",
    "SVMmodel = LinearSVC()\n",
    "\n",
    "SVMmodel.fit(train_x, train_y)\n",
    "\n",
    "SVM_train_perf1 = SVMmodel.score(train_x, train_y)*100\n",
    "SVM_test_perf1 = SVMmodel.score(test_x, test_y)*100\n",
    "\n",
    "print(\"SVM model Train Accuracy:: {:.2f}%\".format(SVM_train_perf1))\n",
    "print(\"SVM model Test Accuracy:: {:.2f}%\".format(SVM_test_perf1))"
   ]
  },
  {
   "cell_type": "markdown",
   "id": "43c1d5fa",
   "metadata": {},
   "source": [
    "#### (5) Neural Network"
   ]
  },
  {
   "cell_type": "markdown",
   "id": "897587d8",
   "metadata": {},
   "source": [
    "A neural network model doesn't perform well as well. This is probably because the size of the dataset was too small. This model usually perform well when there is a large size of samples. "
   ]
  },
  {
   "cell_type": "code",
   "execution_count": 22,
   "id": "c1ad5b35",
   "metadata": {},
   "outputs": [
    {
     "name": "stdout",
     "output_type": "stream",
     "text": [
      "DL model Train Accuracy:: 66.92%\n",
      "DL model Test Accuracy:: 68.92%\n"
     ]
    }
   ],
   "source": [
    "from sklearn.neural_network import MLPClassifier\n",
    "DLmodel = MLPClassifier(solver='lbfgs', hidden_layer_sizes=(3,2), random_state=1)\n",
    "\n",
    "DLmodel.fit(train_x, train_y)\n",
    "\n",
    "DL_train_perf1 = DLmodel.score(train_x, train_y)*100\n",
    "DL_test_perf1 = DLmodel.score(test_x, test_y)*100\n",
    "\n",
    "print(\"DL model Train Accuracy:: {:.2f}%\".format(DL_train_perf1))\n",
    "print(\"DL model Test Accuracy:: {:.2f}%\".format(DL_test_perf1))"
   ]
  },
  {
   "cell_type": "markdown",
   "id": "a9a833fe",
   "metadata": {},
   "source": [
    "#### Deep Learning - (6) Recurrent Neural Network"
   ]
  },
  {
   "cell_type": "markdown",
   "id": "c5f078b9",
   "metadata": {},
   "source": [
    "Lastly, RNN generated the lowest test accuracy result of 25%, which was run in Google Colab due to incompatibility in our laptops."
   ]
  },
  {
   "cell_type": "code",
   "execution_count": null,
   "id": "c179ba51",
   "metadata": {},
   "outputs": [],
   "source": [
    "docs_x = []\n",
    "docs_train_x = []\n",
    "docs_test_x = []\n",
    "for review in train_input:\n",
    "    docs_x.append(nltk.word_tokenize(str(review).lower()))\n",
    "    docs_train_x.append(nltk.word_tokenize(str(review).lower()))\n",
    "for review in train_input:\n",
    "    docs_x.append(nltk.word_tokenize(str(review).lower()))\n",
    "    docs_test_x.append(nltk.word_tokenize(str(review).lower()))\n",
    "\n",
    "from collections import Counter\n",
    "words = [j for i in docs_x for j in i]\n",
    "count_words = Counter(words)\n",
    "total_words = len(words)\n",
    "sorted_words = count_words.most_common(total_words)\n",
    "vocab_to_int = {w: i+1 for i, (w,c) in enumerate(sorted_words)} \n",
    "\n",
    "text_int = []\n",
    "for i in docs_train_x:\n",
    "    r = [vocab_to_int[w] for w in i]\n",
    "    text_int.append(r)\n",
    "\n",
    "\n",
    "text_test_int = []\n",
    "for i in docs_test_x:\n",
    "    r = [vocab_to_int[w] for w in i]\n",
    "    text_test_int.append(r)\n",
    "\n",
    "\n",
    "from keras.preprocessing import sequence \n",
    "from keras.models import Sequential \n",
    "from keras.layers import Dense, Embedding, Flatten \n",
    "from keras.layers import LSTM\n",
    "max_features = total_words\n",
    "maxlen = 250\n",
    "batch_size = 32\n",
    "\n",
    "x_train = sequence.pad_sequences(text_int, maxlen=maxlen)\n",
    "x_test = sequence.pad_sequences(text_test_int, maxlen=maxlen)\n",
    "\n",
    "encoded_train = [0 if label =='Sony' else 1 if label == \"Nintendo\" else 2 if label == \"Microsoft\" else 3 if label == \"Arcade\" else 4 if label == \"Meta\" else 5 for label in train_y]\n",
    "encoded_test = [0 if label =='Sony' else 1 if label == \"Nintendo\" else 2 if label == \"Microsoft\" else 3 if label == \"Arcade\" else 4 if label == \"Meta\" else 5 for label in test_y]\n",
    "\n",
    "model = Sequential()\n",
    "model.add(Embedding(max_features, 20, input_length=maxlen))\n",
    "model.add(LSTM(100, dropout=0.10, recurrent_dropout=0.10))\n",
    "model.add(Dense(1, activation='sigmoid'))\n",
    "model.compile(loss='categorical_crossentropy', optimizer='adam', metrics=['accuracy'])\n",
    "model.fit(x_train.tolist(), encoded_train, batch_size=batch_size, epochs=2, validation_data=(x_test.tolist(), encoded_test))"
   ]
  },
  {
   "cell_type": "code",
   "execution_count": 24,
   "id": "37bd7240",
   "metadata": {},
   "outputs": [
    {
     "name": "stdout",
     "output_type": "stream",
     "text": [
      "RNN model Test Accuracy: 25%\n"
     ]
    }
   ],
   "source": [
    "RNN_test_perf1 = 25\n",
    "print(\"RNN model Test Accuracy: {}%\".format(RNN_test_perf1))"
   ]
  },
  {
   "cell_type": "markdown",
   "id": "8ce0c74d",
   "metadata": {},
   "source": [
    "## 3. Evaluation"
   ]
  },
  {
   "cell_type": "markdown",
   "id": "4cc5c522",
   "metadata": {},
   "source": [
    "In conclusion, the best model for this classification problem was Gradient Boosting, with the test accuracy of 81%."
   ]
  },
  {
   "cell_type": "code",
   "execution_count": 27,
   "id": "c6d2e276",
   "metadata": {},
   "outputs": [
    {
     "data": {
      "image/png": "[encoded data removed]",
      "text/plain": [
       "<Figure size 432x288 with 1 Axes>"
      ]
     },
     "metadata": {
      "needs_background": "light"
     },
     "output_type": "display_data"
    }
   ],
   "source": [
    "import matplotlib.pyplot as plt\n",
    "\n",
    "test_accuracy=[NB_test_perf1,Logit_test_perf1,RF_test_perf1, GB_test_perf1, SVM_test_perf1, DL_test_perf1, RNN_test_perf1]\n",
    "labels=['NB', 'Logit', 'RF', 'GB', 'SVM', 'DL', 'RNN']\n",
    "\n",
    "test_acc = pd.DataFrame({'Model':labels, 'Accuracy':test_accuracy}).sort_values(by='Accuracy', ascending=False)\n",
    "\n",
    "plt.bar(x=test_acc['Model'], height=test_acc['Accuracy'])\n",
    "plt.xlabel(\"Model\")\n",
    "plt.ylabel(\"Accuracy(%)\")\n",
    "plt.title(\"Model Accuracy\")\n",
    "plt.show()"
   ]
  },
  {
   "cell_type": "markdown",
   "id": "8b86bb02",
   "metadata": {},
   "source": [
    "The confusion matrix below shows the number of samples that were correctly classfied or misclassified. It also shows the accuracy rate for each target class (brand). "
   ]
  },
  {
   "cell_type": "code",
   "execution_count": 28,
   "id": "920062f5",
   "metadata": {
    "scrolled": true
   },
   "outputs": [
    {
     "data": {
      "text/html": [
       "<div>\n",
       "<style scoped>\n",
       "    .dataframe tbody tr th:only-of-type {\n",
       "        vertical-align: middle;\n",
       "    }\n",
       "\n",
       "    .dataframe tbody tr th {\n",
       "        vertical-align: top;\n",
       "    }\n",
       "\n",
       "    .dataframe thead th {\n",
       "        text-align: right;\n",
       "    }\n",
       "</style>\n",
       "<table border=\"1\" class=\"dataframe\">\n",
       "  <thead>\n",
       "    <tr style=\"text-align: right;\">\n",
       "      <th></th>\n",
       "      <th>Arcade</th>\n",
       "      <th>Meta</th>\n",
       "      <th>Microsoft</th>\n",
       "      <th>Nintendo</th>\n",
       "      <th>Other</th>\n",
       "      <th>Sony</th>\n",
       "      <th>Sum</th>\n",
       "      <th>Accuracy</th>\n",
       "    </tr>\n",
       "  </thead>\n",
       "  <tbody>\n",
       "    <tr>\n",
       "      <th>Arcade</th>\n",
       "      <td>19</td>\n",
       "      <td>0</td>\n",
       "      <td>0</td>\n",
       "      <td>0</td>\n",
       "      <td>5</td>\n",
       "      <td>1</td>\n",
       "      <td>25</td>\n",
       "      <td>0.76</td>\n",
       "    </tr>\n",
       "    <tr>\n",
       "      <th>Meta</th>\n",
       "      <td>1</td>\n",
       "      <td>8</td>\n",
       "      <td>1</td>\n",
       "      <td>0</td>\n",
       "      <td>13</td>\n",
       "      <td>0</td>\n",
       "      <td>23</td>\n",
       "      <td>0.35</td>\n",
       "    </tr>\n",
       "    <tr>\n",
       "      <th>Microsoft</th>\n",
       "      <td>0</td>\n",
       "      <td>0</td>\n",
       "      <td>56</td>\n",
       "      <td>1</td>\n",
       "      <td>13</td>\n",
       "      <td>0</td>\n",
       "      <td>70</td>\n",
       "      <td>0.80</td>\n",
       "    </tr>\n",
       "    <tr>\n",
       "      <th>Nintendo</th>\n",
       "      <td>0</td>\n",
       "      <td>1</td>\n",
       "      <td>1</td>\n",
       "      <td>12</td>\n",
       "      <td>26</td>\n",
       "      <td>1</td>\n",
       "      <td>41</td>\n",
       "      <td>0.29</td>\n",
       "    </tr>\n",
       "    <tr>\n",
       "      <th>Other</th>\n",
       "      <td>2</td>\n",
       "      <td>1</td>\n",
       "      <td>13</td>\n",
       "      <td>2</td>\n",
       "      <td>497</td>\n",
       "      <td>4</td>\n",
       "      <td>519</td>\n",
       "      <td>0.96</td>\n",
       "    </tr>\n",
       "    <tr>\n",
       "      <th>Sony</th>\n",
       "      <td>1</td>\n",
       "      <td>0</td>\n",
       "      <td>3</td>\n",
       "      <td>2</td>\n",
       "      <td>51</td>\n",
       "      <td>18</td>\n",
       "      <td>75</td>\n",
       "      <td>0.24</td>\n",
       "    </tr>\n",
       "  </tbody>\n",
       "</table>\n",
       "</div>"
      ],
      "text/plain": [
       "           Arcade  Meta  Microsoft  Nintendo  Other  Sony  Sum  Accuracy\n",
       "Arcade         19     0          0         0      5     1   25      0.76\n",
       "Meta            1     8          1         0     13     0   23      0.35\n",
       "Microsoft       0     0         56         1     13     0   70      0.80\n",
       "Nintendo        0     1          1        12     26     1   41      0.29\n",
       "Other           2     1         13         2    497     4  519      0.96\n",
       "Sony            1     0          3         2     51    18   75      0.24"
      ]
     },
     "execution_count": 28,
     "metadata": {},
     "output_type": "execute_result"
    }
   ],
   "source": [
    "from sklearn.metrics import confusion_matrix\n",
    "import numpy as np\n",
    "\n",
    "cm_gb = pd.DataFrame(confusion_matrix(test_y, GBmodel.predict(test_x)), \n",
    "                     index = [\"Arcade\", \"Meta\", \"Microsoft\", \"Nintendo\", \"Other\", \"Sony\"], \n",
    "                     columns = [\"Arcade\", \"Meta\", \"Microsoft\", \"Nintendo\", \"Other\", \"Sony\"])\n",
    "\n",
    "cm_gb['Sum'] = cm_gb.sum(axis=1)\n",
    "cm_gb['Accuracy'] = np.repeat(0, len(cm_gb))\n",
    "for i in range(len(cm_gb)):\n",
    "    cm_gb.iloc[i,-1] = round(cm_gb.iloc[i,i] / cm_gb.iloc[i,-2], 2)\n",
    "\n",
    "cm_gb"
   ]
  }
 ],
 "metadata": {
  "kernelspec": {
   "display_name": "Python 3 (ipykernel)",
   "language": "python",
   "name": "python3"
  },
  "language_info": {
   "codemirror_mode": {
    "name": "ipython",
    "version": 3
   },
   "file_extension": ".py",
   "mimetype": "text/x-python",
   "name": "python",
   "nbconvert_exporter": "python",
   "pygments_lexer": "ipython3",
   "version": "3.9.7"
  }
 },
 "nbformat": 4,
 "nbformat_minor": 5
}
